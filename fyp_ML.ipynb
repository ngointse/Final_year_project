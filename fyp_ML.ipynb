{
  "nbformat": 4,
  "nbformat_minor": 0,
  "metadata": {
    "colab": {
      "name": "fyp_ML.ipynb",
      "provenance": [],
      "collapsed_sections": [],
      "machine_shape": "hm"
    },
    "kernelspec": {
      "name": "python3",
      "display_name": "Python 3"
    },
    "language_info": {
      "name": "python"
    }
  },
  "cells": [
    {
      "cell_type": "code",
      "source": [
        "# Evaluate Decision Tree \n",
        "import pandas as pd\n",
        "import numpy as np\n",
        "from sklearn.tree import DecisionTreeClassifier \n",
        "from sklearn.model_selection import train_test_split \n",
        "from sklearn import tree\n",
        "import pydotplus\n",
        "from sklearn.tree import DecisionTreeRegressor\n",
        "from sklearn import metrics\n",
        "from sklearn.metrics import accuracy_score, classification_report, confusion_matrix\n",
        "\n",
        "df = pd.read_csv(\"CoolingLoad15months.csv\")\n",
        "df.head()\n",
        "\n",
        "features = [\"Average_OAT\",\"Humidity\",\"UV_Index\",\"Average_Rainfall\",\"NT_CoolingLoad\",\"ST_CoolingLoad\",\"CoolingLoad\"]\n",
        "\n",
        "x = np.array(df[['NT_CoolingLoad', 'ST_CoolingLoad']])\n",
        "y = np.asarray(df['CoolingLoad'], dtype=\"|S6\")\n",
        "# Evaluate Decision Tree \n",
        "\n",
        "x_train, x_test, y_train, y_test = train_test_split(\n",
        "x, y, test_size=0.2, random_state=0)\n",
        "\n",
        "\n",
        "dtr = DecisionTreeClassifier()\n",
        "dtr.fit(x_train, y_train)\n",
        "\n",
        "dtr_pred = dtr.predict(x_test)\n",
        "dtr.score(x_test, y_test)\n",
        "\n",
        "#print(classification_report(y_test, dtr_pred))"
      ],
      "metadata": {
        "id": "4ahRNp9Kg5wz",
        "colab": {
          "base_uri": "https://localhost:8080/"
        },
        "outputId": "cbcd3012-6342-4f33-a9f1-1fe079bfb764"
      },
      "execution_count": 1,
      "outputs": [
        {
          "output_type": "execute_result",
          "data": {
            "text/plain": [
              "0.14985722444317534"
            ]
          },
          "metadata": {},
          "execution_count": 1
        }
      ]
    },
    {
      "cell_type": "code",
      "source": [
        "#LinearRegression\n",
        "from scipy import stats \n",
        "import numpy as np\n",
        "import pandas as pd\n",
        "from matplotlib import pyplot as plt\n",
        "df = pd.read_csv(\"CoolingLoad15months.csv\")\n",
        "df.head()\n",
        "\n",
        "%matplotlib inline\n",
        "\n",
        "plt.scatter(df['NT_CoolingLoad'], df['ST_CoolingLoad'])\n",
        "\n",
        "x = df[['NT_CoolingLoad', 'ST_CoolingLoad']]\n",
        "y = df['CoolingLoad']\n",
        "\n",
        "\n",
        "from sklearn.model_selection import train_test_split\n",
        "\n",
        "x_train, x_test, y_train, y_test =  train_test_split(x,y,test_size = 0.2)\n",
        "\n",
        "len(x_train)\n",
        "len(x_test)\n",
        "\n",
        "from sklearn.linear_model import LinearRegression\n",
        "clf = LinearRegression()\n",
        "\n",
        "clf.fit(x_train, y_train)\n",
        "clf.predict(x_test)\n",
        "\n",
        "y_test\n",
        "\n",
        "clf.score(x_test, y_test)"
      ],
      "metadata": {
        "colab": {
          "base_uri": "https://localhost:8080/",
          "height": 284
        },
        "id": "DOdnQWZ0SuKz",
        "outputId": "dcbea3f3-ca8f-452a-ee05-4ad84ea819a8"
      },
      "execution_count": 3,
      "outputs": [
        {
          "output_type": "execute_result",
          "data": {
            "text/plain": [
              "0.9899492881841093"
            ]
          },
          "metadata": {},
          "execution_count": 3
        },
        {
          "output_type": "display_data",
          "data": {
            "text/plain": [
              "<Figure size 432x288 with 1 Axes>"
            ],
            "image/png": "[encoded data removed]"
          },
          "metadata": {
            "needs_background": "light"
          }
        }
      ]
    },
    {
      "cell_type": "code",
      "source": [
        "# LogisticRegression\n",
        "import pandas as pd\n",
        "import numpy as np\n",
        "from sklearn import metrics\n",
        "from sklearn.metrics import accuracy_score, classification_report, confusion_matrix\n",
        "from sklearn.linear_model import LogisticRegression\n",
        "from sklearn.model_selection import train_test_split\n",
        "from matplotlib import pyplot as plt\n",
        "%matplotlib inline\n",
        "\n",
        "\n",
        "df = pd.read_csv(\"CoolingLoad15months.csv\")\n",
        "df.head()\n",
        "plt.scatter(df.Average_OAT,df.CoolingLoad,marker='+',color='red')\n"
      ],
      "metadata": {
        "colab": {
          "base_uri": "https://localhost:8080/",
          "height": 284
        },
        "id": "PIolbEQmTEO-",
        "outputId": "8ef91a52-9f45-43ab-e9f8-bf65499ccc4a"
      },
      "execution_count": 2,
      "outputs": [
        {
          "output_type": "execute_result",
          "data": {
            "text/plain": [
              "<matplotlib.collections.PathCollection at 0x7fb6478a5f90>"
            ]
          },
          "metadata": {},
          "execution_count": 2
        },
        {
          "output_type": "display_data",
          "data": {
            "text/plain": [
              "<Figure size 432x288 with 1 Axes>"
            ],
            "image/png": "[encoded data removed]"
          },
          "metadata": {
            "needs_background": "light"
          }
        }
      ]
    },
    {
      "cell_type": "code",
      "source": [
        "#features = [\"Average_OAT\",\"Humidity\",\"UV_Index\",\"Average_Rainfall\",\"NT_CoolingLoad\",\"ST_CoolingLoad\",\"CoolingLoad\"]\n",
        "\n",
        "x = np.array(df[['NT_CoolingLoad', 'ST_CoolingLoad']])\n",
        "y = np.asarray(df['CoolingLoad'], dtype=\"|S6\")\n",
        "\n",
        "x_train, x_test, y_train, y_test = train_test_split(\n",
        "x, y, test_size=0.2, random_state=0)\n",
        "\n",
        "model = LogisticRegression()\n",
        "model.fit(x_train, y_train)\n",
        "y_predicted = model.predict(x_test)\n",
        "model.score(x_test, y_test)\n",
        "# print(classification_report(y_test, y_predicted))"
      ],
      "metadata": {
        "id": "TKd1IVDUW4Zd"
      },
      "execution_count": null,
      "outputs": []
    }
  ]
}